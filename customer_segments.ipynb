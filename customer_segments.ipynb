{
 "cells": [
  {
   "cell_type": "markdown",
   "metadata": {},
   "source": [
    "# Creating Customer Segments"
   ]
  },
  {
   "cell_type": "markdown",
   "metadata": {},
   "source": [
    "In this project you, will analyze a dataset containing annual spending amounts for internal structure, to understand the variation in the different types of customers that a wholesale distributor interacts with.\n",
    "\n",
    "Instructions:\n",
    "\n",
    "- Run each code block below by pressing **Shift+Enter**, making sure to implement any steps marked with a TODO.\n",
    "- Answer each question in the space provided by editing the blocks labeled \"Answer:\".\n",
    "- When you are done, submit the completed notebook (.ipynb) with all code blocks executed, as well as a .pdf version (File > Download as)."
   ]
  },
  {
   "cell_type": "code",
   "execution_count": 1,
   "metadata": {
    "collapsed": false
   },
   "outputs": [
    {
     "name": "stdout",
     "output_type": "stream",
     "text": [
      "Dataset has 440 rows, 6 columns\n",
      "   Fresh  Milk  Grocery  Frozen  Detergents_Paper  Delicatessen\n",
      "0  12669  9656     7561     214              2674          1338\n",
      "1   7057  9810     9568    1762              3293          1776\n",
      "2   6353  8808     7684    2405              3516          7844\n",
      "3  13265  1196     4221    6404               507          1788\n",
      "4  22615  5410     7198    3915              1777          5185\n"
     ]
    }
   ],
   "source": [
    "# Import libraries: NumPy, pandas, matplotlib\n",
    "import numpy as np\n",
    "import pandas as pd\n",
    "import matplotlib.pyplot as plt\n",
    "\n",
    "# Tell iPython to include plots inline in the notebook\n",
    "%matplotlib inline\n",
    "\n",
    "# Read dataset\n",
    "data = pd.read_csv(\"wholesale-customers.csv\")\n",
    "print \"Dataset has {} rows, {} columns\".format(*data.shape)\n",
    "print data.head()  # print the first 5 rows"
   ]
  },
  {
   "cell_type": "markdown",
   "metadata": {},
   "source": [
    "##Feature Transformation"
   ]
  },
  {
   "cell_type": "markdown",
   "metadata": {},
   "source": [
    "**1)** In this section you will be using PCA and ICA to start to understand the structure of the data. Before doing any computations, what do you think will show up in your computations? List one or two ideas for what might show up as the first PCA dimensions, or what type of vectors will show up as ICA dimensions."
   ]
  },
  {
   "cell_type": "code",
   "execution_count": 2,
   "metadata": {
    "collapsed": false
   },
   "outputs": [
    {
     "data": {
      "text/html": [
       "<div>\n",
       "<table border=\"1\" class=\"dataframe\">\n",
       "  <thead>\n",
       "    <tr style=\"text-align: right;\">\n",
       "      <th></th>\n",
       "      <th>Fresh</th>\n",
       "      <th>Milk</th>\n",
       "      <th>Grocery</th>\n",
       "      <th>Frozen</th>\n",
       "      <th>Detergents_Paper</th>\n",
       "      <th>Delicatessen</th>\n",
       "    </tr>\n",
       "  </thead>\n",
       "  <tbody>\n",
       "    <tr>\n",
       "      <th>count</th>\n",
       "      <td>440.000000</td>\n",
       "      <td>440.000000</td>\n",
       "      <td>440.000000</td>\n",
       "      <td>440.000000</td>\n",
       "      <td>440.000000</td>\n",
       "      <td>440.000000</td>\n",
       "    </tr>\n",
       "    <tr>\n",
       "      <th>mean</th>\n",
       "      <td>12000.297727</td>\n",
       "      <td>5796.265909</td>\n",
       "      <td>7951.277273</td>\n",
       "      <td>3071.931818</td>\n",
       "      <td>2881.493182</td>\n",
       "      <td>1524.870455</td>\n",
       "    </tr>\n",
       "    <tr>\n",
       "      <th>std</th>\n",
       "      <td>12647.328865</td>\n",
       "      <td>7380.377175</td>\n",
       "      <td>9503.162829</td>\n",
       "      <td>4854.673333</td>\n",
       "      <td>4767.854448</td>\n",
       "      <td>2820.105937</td>\n",
       "    </tr>\n",
       "    <tr>\n",
       "      <th>min</th>\n",
       "      <td>3.000000</td>\n",
       "      <td>55.000000</td>\n",
       "      <td>3.000000</td>\n",
       "      <td>25.000000</td>\n",
       "      <td>3.000000</td>\n",
       "      <td>3.000000</td>\n",
       "    </tr>\n",
       "    <tr>\n",
       "      <th>25%</th>\n",
       "      <td>3127.750000</td>\n",
       "      <td>1533.000000</td>\n",
       "      <td>2153.000000</td>\n",
       "      <td>742.250000</td>\n",
       "      <td>256.750000</td>\n",
       "      <td>408.250000</td>\n",
       "    </tr>\n",
       "    <tr>\n",
       "      <th>50%</th>\n",
       "      <td>8504.000000</td>\n",
       "      <td>3627.000000</td>\n",
       "      <td>4755.500000</td>\n",
       "      <td>1526.000000</td>\n",
       "      <td>816.500000</td>\n",
       "      <td>965.500000</td>\n",
       "    </tr>\n",
       "    <tr>\n",
       "      <th>75%</th>\n",
       "      <td>16933.750000</td>\n",
       "      <td>7190.250000</td>\n",
       "      <td>10655.750000</td>\n",
       "      <td>3554.250000</td>\n",
       "      <td>3922.000000</td>\n",
       "      <td>1820.250000</td>\n",
       "    </tr>\n",
       "    <tr>\n",
       "      <th>max</th>\n",
       "      <td>112151.000000</td>\n",
       "      <td>73498.000000</td>\n",
       "      <td>92780.000000</td>\n",
       "      <td>60869.000000</td>\n",
       "      <td>40827.000000</td>\n",
       "      <td>47943.000000</td>\n",
       "    </tr>\n",
       "  </tbody>\n",
       "</table>\n",
       "</div>"
      ],
      "text/plain": [
       "               Fresh          Milk       Grocery        Frozen  \\\n",
       "count     440.000000    440.000000    440.000000    440.000000   \n",
       "mean    12000.297727   5796.265909   7951.277273   3071.931818   \n",
       "std     12647.328865   7380.377175   9503.162829   4854.673333   \n",
       "min         3.000000     55.000000      3.000000     25.000000   \n",
       "25%      3127.750000   1533.000000   2153.000000    742.250000   \n",
       "50%      8504.000000   3627.000000   4755.500000   1526.000000   \n",
       "75%     16933.750000   7190.250000  10655.750000   3554.250000   \n",
       "max    112151.000000  73498.000000  92780.000000  60869.000000   \n",
       "\n",
       "       Detergents_Paper  Delicatessen  \n",
       "count        440.000000    440.000000  \n",
       "mean        2881.493182   1524.870455  \n",
       "std         4767.854448   2820.105937  \n",
       "min            3.000000      3.000000  \n",
       "25%          256.750000    408.250000  \n",
       "50%          816.500000    965.500000  \n",
       "75%         3922.000000   1820.250000  \n",
       "max        40827.000000  47943.000000  "
      ]
     },
     "execution_count": 2,
     "metadata": {},
     "output_type": "execute_result"
    }
   ],
   "source": [
    "data.describe()"
   ]
  },
  {
   "cell_type": "code",
   "execution_count": 3,
   "metadata": {
    "collapsed": false
   },
   "outputs": [
    {
     "data": {
      "image/png": "[encoded data removed]",
      "text/plain": [
       "<matplotlib.figure.Figure at 0x108cb7790>"
      ]
     },
     "metadata": {},
     "output_type": "display_data"
    }
   ],
   "source": [
    "fig, axes = plt.subplots(nrows=1, ncols=1, figsize=(12, 5))\n",
    "\n",
    "# rectangular box plot\n",
    "bplot1 = axes.boxplot(data.values,\n",
    "                         vert=True,   # vertical box aligmnent\n",
    "                         patch_artist=True)   # fill with color\n",
    "\n",
    "axes.yaxis.grid(True)\n",
    "axes.set_xlabel('Products')\n",
    "axes.set_ylabel('Amount in $')\n",
    "\n",
    "plt.setp(axes, xticks=[y+1 for y in range(len(data.columns))],\n",
    "         xticklabels=['Fresh', 'Milk', 'Grocery', 'Frozen', 'Detergent_paper','Delicatessen'])\n",
    "\n",
    "plt.ylim(0,40000);\n"
   ]
  },
  {
   "cell_type": "markdown",
   "metadata": {},
   "source": [
    "PCA will use the features with more variance to build the first components. Given the 3rd line table above (std), We could expect that Fresh, Grocery and Milk will be highly important in the couple of first components."
   ]
  },
  {
   "cell_type": "markdown",
   "metadata": {},
   "source": [
    "ICA will build independant components, to do so it needs features that best separate different types of customers according to their purchasing habits.\n",
    "\n",
    "To build our first ICA component we need 2 categories bought by different customers. Below I computed the ratio median / mean the lower the ratio the more it will be easy to isolate customer who buy this product.\n",
    "\n",
    "Both Detergent_paper and Frozen have the lowest ratio.\n",
    "\n",
    "Hence, we will have more chance when Combining both of them to clearly separate 2 groups with different purchasing behaviors (those who buy more Detergents_Paper and less Frozen Vs those who buy more Frozen and less Detergents_Paper)."
   ]
  },
  {
   "cell_type": "code",
   "execution_count": 7,
   "metadata": {
    "collapsed": false
   },
   "outputs": [
    {
     "name": "stdout",
     "output_type": "stream",
     "text": [
      "for Fresh: median / mean = 70.86%\n",
      "for Milk: median / mean = 62.57%\n",
      "for Grocery: median / mean = 59.81%\n",
      "for Frozen: median / mean = 49.68%\n",
      "for Detergents_Paper: median / mean = 28.34%\n",
      "for Delicatessen: median / mean = 63.32%\n"
     ]
    }
   ],
   "source": [
    "for col in data.columns:\n",
    "    print \"for {0}: median / mean = {1:.2f}%\".format(col, np.median(data[col]) * 100 / np.mean(data[col]))"
   ]
  },
  {
   "cell_type": "code",
   "execution_count": 4,
   "metadata": {
    "collapsed": false
   },
   "outputs": [
    {
     "name": "stderr",
     "output_type": "stream",
     "text": [
      "/usr/local/lib/python2.7/site-packages/matplotlib/__init__.py:872: UserWarning: axes.color_cycle is deprecated and replaced with axes.prop_cycle; please use the latter.\n",
      "  warnings.warn(self.msg_depr % (key, alt_key))\n"
     ]
    },
    {
     "data": {
      "image/png": "[encoded data removed]",
      "text/plain": [
       "<matplotlib.figure.Figure at 0x107dbb490>"
      ]
     },
     "metadata": {},
     "output_type": "display_data"
    }
   ],
   "source": [
    "import seaborn as sns\n",
    "\n",
    "sns.set(style=\"white\", palette=\"muted\", color_codes=True)\n",
    "\n",
    "# Set up the matplotlib figure\n",
    "f, axes = plt.subplots(2, 3, figsize=(14, 10), sharex=True)\n",
    "sns.despine(left=True)\n",
    "\n",
    "\n",
    "# Plot a simple histogram with binsize determined automatically\n",
    "\n",
    "for i,col in enumerate(data.columns):\n",
    "    if i < 3:\n",
    "        nb = 0\n",
    "    else:\n",
    "        nb = 1\n",
    "    sns.distplot(data[col], color=\"b\", ax=axes[nb, i % 3], bins=20)\n",
    "#sns.distplot(data[\"Fresh\"], color=\"b\", ax=axes[0, 1])\n",
    "\n",
    "plt.setp(axes, yticks=[])\n",
    "plt.tight_layout()"
   ]
  },
  {
   "cell_type": "code",
   "execution_count": 5,
   "metadata": {
    "collapsed": false
   },
   "outputs": [
    {
     "name": "stdout",
     "output_type": "stream",
     "text": [
      "[[-0.97653685 -0.12118407 -0.06154039 -0.15236462  0.00705417 -0.06810471]\n",
      " [-0.11061386  0.51580216  0.76460638 -0.01872345  0.36535076  0.05707921]\n",
      " [-0.17855726  0.50988675 -0.27578088  0.71420037 -0.20440987  0.28321747]\n",
      " [-0.04187648 -0.64564047  0.37546049  0.64629232  0.14938013 -0.02039579]\n",
      " [ 0.015986    0.20323566 -0.1602915   0.22018612  0.20793016 -0.91707659]\n",
      " [-0.01576316  0.03349187  0.41093894 -0.01328898 -0.87128428 -0.26541687]]\n",
      "[ 0.45961362  0.40517227  0.07003008  0.04402344  0.01502212  0.00613848]\n"
     ]
    }
   ],
   "source": [
    "# TODO: Apply PCA with the same number of dimensions as variables in the dataset\n",
    "from sklearn.decomposition import PCA\n",
    "pca = PCA(n_components=6)\n",
    "pca.fit(data)\n",
    "\n",
    "# Print the components and the amount of variance in the data contained in each dimension\n",
    "print pca.components_\n",
    "print pca.explained_variance_ratio_"
   ]
  },
  {
   "cell_type": "markdown",
   "metadata": {},
   "source": [
    "**2)** How quickly does the variance drop off by dimension? If you were to use PCA on this dataset, how many dimensions would you choose for your analysis? Why?"
   ]
  },
  {
   "cell_type": "markdown",
   "metadata": {
    "collapsed": true
   },
   "source": [
    "The variance drops from 40% to 7% between the 2nd and the 3rd components. I would choose to keep only 2 dimensions. Since only 2 variables explains 85% of the variance, I can do some as simple as plotting the data points to think about how to group them."
   ]
  },
  {
   "cell_type": "markdown",
   "metadata": {},
   "source": [
    "**3)** What do the dimensions seem to represent? How can you use this information?"
   ]
  },
  {
   "cell_type": "markdown",
   "metadata": {},
   "source": [
    "The first component has 70% of its weight on Fresh items. Buyers tend to differenciate through this items."
   ]
  },
  {
   "cell_type": "code",
   "execution_count": 6,
   "metadata": {
    "collapsed": false
   },
   "outputs": [
    {
     "name": "stdout",
     "output_type": "stream",
     "text": [
      "Fresh items weight (or importance) is 70.42%.\n"
     ]
    }
   ],
   "source": [
    "print \"Fresh items weight (or importance) is {0:.2f}%.\".format(np.abs(pca.components_[0][0]) / np.abs(pca.components_[0]).sum()*100)"
   ]
  },
  {
   "cell_type": "markdown",
   "metadata": {},
   "source": [
    "The second component is mostly a mix of Milk and Grocery. We could name this category **\"Grocery\"**."
   ]
  },
  {
   "cell_type": "code",
   "execution_count": 7,
   "metadata": {
    "collapsed": false
   },
   "outputs": [
    {
     "name": "stdout",
     "output_type": "stream",
     "text": [
      "Milk and Grocery items represent 69.88% of the second component.\n"
     ]
    }
   ],
   "source": [
    "print \"Milk and Grocery items represent {0:.2f}% of the second component.\".format( (np.abs(pca.components_[1][1]) + np.abs(pca.components_[1][2])) / np.abs(pca.components_[1]).sum()*100)"
   ]
  },
  {
   "cell_type": "markdown",
   "metadata": {
    "collapsed": true
   },
   "source": [
    "Now all we are left with conceptuatually are 2 dimensions to rank our clients.\n",
    "\n",
    "Removing the 4 PCA last dimensions enables us to group our customer in a 2 dimensional space with the added bonus of allowing us to visualize our groups more easily."
   ]
  },
  {
   "cell_type": "markdown",
   "metadata": {},
   "source": [
    "###ICA"
   ]
  },
  {
   "cell_type": "code",
   "execution_count": 8,
   "metadata": {
    "collapsed": false
   },
   "outputs": [
    {
     "name": "stdout",
     "output_type": "stream",
     "text": [
      "[[ 0.00305829  0.01303128  0.01935825  0.00244355  0.02027703 -0.00772317]\n",
      " [-0.04966602 -0.00018288 -0.00053902  0.00373094  0.00130949  0.0059979 ]\n",
      " [ 0.01090569  0.00235075 -0.00205501 -0.05424726 -0.00325838  0.01487577]\n",
      " [ 0.00553067 -0.01144728  0.00434874  0.0042735   0.00989897 -0.04633815]]\n"
     ]
    }
   ],
   "source": [
    "# TODO: Fit an ICA model to the data\n",
    "# Note: Adjust the data to have center at the origin first!\n",
    "from sklearn.decomposition import FastICA\n",
    "from sklearn.preprocessing import StandardScaler\n",
    "\n",
    "data_centered = StandardScaler().fit_transform(data)\n",
    "\n",
    "\n",
    "ica_4 = FastICA(n_components=4, random_state=14).fit(data_centered)\n",
    "ica_6 = FastICA(n_components=6, random_state = 14).fit(data_centered)\n",
    "\n",
    "# Print the independent components\n",
    "print ica_4.components_"
   ]
  },
  {
   "cell_type": "markdown",
   "metadata": {},
   "source": [
    "**4)** For each vector in the ICA decomposition, write a sentence or two explaining what sort of object or property it corresponds to. What could these components be used for?"
   ]
  },
  {
   "cell_type": "code",
   "execution_count": 9,
   "metadata": {
    "collapsed": false
   },
   "outputs": [
    {
     "name": "stdout",
     "output_type": "stream",
     "text": [
      "Component number 1's max is Detergents_Paper, its value is 0.0203. It accounts for 34.86 % of the positives\n",
      "Component number 1's min is Delicatessen , its value is -0.0077. It accounts for 100.00 % of the negatives\n",
      " \n",
      "Component number 2's max is Delicatessen, its value is 0.0060. It accounts for 54.34 % of the positives\n",
      "Component number 2's min is Fresh , its value is -0.0497. It accounts for 98.57 % of the negatives\n",
      " \n",
      "Component number 3's max is Delicatessen, its value is 0.0149. It accounts for 52.88 % of the positives\n",
      "Component number 3's min is Frozen , its value is -0.0542. It accounts for 91.08 % of the negatives\n",
      " \n",
      "Component number 4's max is Detergents_Paper, its value is 0.0099. It accounts for 41.16 % of the positives\n",
      "Component number 4's min is Delicatessen , its value is -0.0463. It accounts for 80.19 % of the negatives\n",
      " \n"
     ]
    }
   ],
   "source": [
    "def min_weight(vect):\n",
    "    w = np.min(vect) / vect[vect < 0].sum()\n",
    "    return w * 100\n",
    "    \n",
    "def max_weight(vect):\n",
    "    w = np.max(vect) / vect[vect > 0].sum()\n",
    "    return w * 100\n",
    "\n",
    "\n",
    "for i, v in enumerate(ica_4.components_):\n",
    "    print \"Component number {0}'s max is {2}, its value is {1:.4f}. It accounts for {3:.2f} % of the positives\".format(i + 1, np.max(v), data.columns[np.argmax(v,axis=0)], max_weight(v) ) \n",
    "    print \"Component number {0}'s min is {2} , its value is {1:.4f}. It accounts for {3:.2f} % of the negatives\".format(i + 1, np.min(v),data.columns[np.argmin(v,axis=0)], min_weight(v) )\n",
    "    print \" \""
   ]
  },
  {
   "cell_type": "markdown",
   "metadata": {
    "collapsed": true
   },
   "source": [
    "With the statementents above, separates customers into groups with very distinct purchasing behaviors\n",
    "\n",
    "- Component 1 : Customers who order Detergents_paper but also Milk and Grocery Vs those who order Delicatessen\n",
    "- Component 2 : Customers who order Delicatessen Vs those who order Fresh products\n",
    "- Component 3 : Customers who order Delicatessen Vs those who order Frozen products\n",
    "- Component 4 : Customers who order Detergents_paper Vs those who order Delicatessen\n",
    "\n",
    "Component 1 and 4 are close enough. We might want to reduce the number of components to 3 only.\n",
    "\n",
    "Interestingly the parameters used for a decomposition into 6 components uses different vectors. Again vectors 2 and 3 won't be independant, we would need to reduce the number of components.\n",
    "\n",
    "ICA gives us an interstering way to explore the data graphically, it gives us insight on the combinaison of parameters that are worth trying first, since they are considered as being as independant as possible.\n",
    "\n",
    "It comes to my mind that could make a good preprocessing step in case we were using a Naive Bayes Algorithm (I'm just saying this on the basis of intuition).\n"
   ]
  },
  {
   "cell_type": "code",
   "execution_count": 10,
   "metadata": {
    "collapsed": false
   },
   "outputs": [
    {
     "name": "stdout",
     "output_type": "stream",
     "text": [
      "Component number 1's max is Milk, its value is 0.0723. It accounts for 78.76 % of the positives\n",
      "Component number 1's min is Grocery , its value is -0.0565. It accounts for 75.26 % of the negatives\n",
      " \n",
      "Component number 2's max is Detergents_Paper, its value is 0.0145. It accounts for 44.67 % of the positives\n",
      "Component number 2's min is Grocery , its value is -0.0700. It accounts for 94.58 % of the negatives\n",
      " \n",
      "Component number 3's max is Detergents_Paper, its value is 0.1332. It accounts for 83.45 % of the positives\n",
      "Component number 3's min is Grocery , its value is -0.1084. It accounts for 85.18 % of the negatives\n",
      " \n",
      "Component number 4's max is Delicatessen, its value is 0.0509. It accounts for 95.48 % of the positives\n",
      "Component number 4's min is Grocery , its value is -0.0056. It accounts for 38.40 % of the negatives\n",
      " \n",
      "Component number 5's max is Frozen, its value is 0.0541. It accounts for 88.05 % of the positives\n",
      "Component number 5's min is Delicatessen , its value is -0.0168. It accounts for 53.68 % of the negatives\n",
      " \n",
      "Component number 6's max is Fresh, its value is 0.0503. It accounts for 80.56 % of the positives\n",
      "Component number 6's min is Grocery , its value is -0.0081. It accounts for 39.41 % of the negatives\n",
      " \n"
     ]
    }
   ],
   "source": [
    "for i, v in enumerate(ica_6.components_):\n",
    "    print \"Component number {0}'s max is {2}, its value is {1:.4f}. It accounts for {3:.2f} % of the positives\".format(i + 1, np.max(v), data.columns[np.argmax(v,axis=0)], max_weight(v) ) \n",
    "    print \"Component number {0}'s min is {2} , its value is {1:.4f}. It accounts for {3:.2f} % of the negatives\".format(i + 1, np.min(v),data.columns[np.argmin(v,axis=0)], min_weight(v) )\n",
    "    print \" \""
   ]
  },
  {
   "cell_type": "markdown",
   "metadata": {},
   "source": [
    "##Clustering\n",
    "\n",
    "In this section you will choose either K Means clustering or Gaussian Mixed Models clustering, which implements expectation-maximization. Then you will sample elements from the clusters to understand their significance."
   ]
  },
  {
   "cell_type": "markdown",
   "metadata": {},
   "source": [
    "###Choose a Cluster Type\n",
    "\n",
    "**5)** What are the advantages of using K Means clustering or Gaussian Mixture Models?"
   ]
  },
  {
   "cell_type": "markdown",
   "metadata": {},
   "source": [
    "[According to scikit learn](http://scikit-learn.org/stable/modules/mixture.html#gmm) : *\"One can think of mixture models as generalizing k-means clustering to incorporate information about the covariance structure of the data as well as the centers of the latent Gaussians.\"*\n",
    "\n",
    "Gaussian Mixture Model is a probabilistic wheras K-Means minimizes the distance between the centroids and the data points.\n",
    "\n",
    "Gaussian Mixture Model allows us to draw much more complicated boundaries between clusters of points which can be very interesing to separate the clusters when lines cannot capture properly what differentiate data points.\n",
    "\n",
    "K-means none is much simpler to understand and it is sometimes armful to choose unecessary complexity. \n",
    "\n",
    "In our case, we want to be able to explain our data as simply as possible, hence choosing the K-Means approach.\n"
   ]
  },
  {
   "cell_type": "markdown",
   "metadata": {},
   "source": [
    "**6)** Below is some starter code to help you visualize some cluster data. The visualization is based on [this demo](http://scikit-learn.org/stable/auto_examples/cluster/plot_kmeans_digits.html) from the sklearn documentation."
   ]
  },
  {
   "cell_type": "code",
   "execution_count": 11,
   "metadata": {
    "collapsed": true
   },
   "outputs": [],
   "source": [
    "# Import clustering modules\n",
    "from sklearn.cluster import KMeans\n",
    "from sklearn.mixture import GMM"
   ]
  },
  {
   "cell_type": "code",
   "execution_count": 12,
   "metadata": {
    "collapsed": false
   },
   "outputs": [
    {
     "name": "stdout",
     "output_type": "stream",
     "text": [
      "[[-0.05066239  0.13161505]\n",
      " [ 0.34502287  0.33556674]\n",
      " [ 0.37738285  0.21406486]\n",
      " [-0.07718708 -0.5212911 ]\n",
      " [-0.83067886 -0.17928035]\n",
      " [ 0.2155776  -0.07967954]\n",
      " [ 0.05576966 -0.16710073]\n",
      " [ 0.34874672  0.11866355]\n",
      " [ 0.52313722 -0.18311407]\n",
      " [ 0.37595155  1.11903068]]\n"
     ]
    }
   ],
   "source": [
    "# TODO: First we reduce the data to two dimensions using PCA to capture variation\n",
    "\n",
    "\n",
    "reduced_data = PCA(n_components=2).fit_transform(data)\n",
    "\n",
    "reduced_data = StandardScaler().fit_transform(reduced_data)\n",
    "\n",
    "print reduced_data[:10]  # print upto 10 elements"
   ]
  },
  {
   "cell_type": "code",
   "execution_count": 13,
   "metadata": {
    "collapsed": false
   },
   "outputs": [],
   "source": [
    "#clusters = GMM(n_components=3, covariance_type='spherical').fit(reduced_data)\n",
    "#print clusters"
   ]
  },
  {
   "cell_type": "code",
   "execution_count": 14,
   "metadata": {
    "collapsed": false
   },
   "outputs": [],
   "source": [
    "# TODO: Implement your clustering algorithm here, and fit it to the reduced data for visualization\n",
    "# The visualizer below assumes your clustering object is named 'clusters'\n",
    "def fit_k_mean(n_clusters):\n",
    "    clusters = KMeans(n_clusters).fit(reduced_data)\n",
    "    return clusters"
   ]
  },
  {
   "cell_type": "code",
   "execution_count": 15,
   "metadata": {
    "collapsed": true
   },
   "outputs": [],
   "source": [
    "from sklearn import metrics\n",
    "def compute_sihouette(n_clusters,clusters):\n",
    "    labels = clusters.labels_\n",
    "    print \"for {0} clusters silhouette score is {1}\".format(n_clusters,metrics.silhouette_score(reduced_data, labels, metric='euclidean')) "
   ]
  },
  {
   "cell_type": "code",
   "execution_count": 16,
   "metadata": {
    "collapsed": false
   },
   "outputs": [],
   "source": [
    "def plot_clusters(clusters, reduced_data):\n",
    "    # Plot the decision boundary by building a mesh grid to populate a graph.\n",
    "    x_min, x_max = reduced_data[:, 0].min() - 1, reduced_data[:, 0].max() + 1\n",
    "    y_min, y_max = reduced_data[:, 1].min() - 1, reduced_data[:, 1].max() + 1\n",
    "    hx = (x_max-x_min)/1000.\n",
    "    hy = (y_max-y_min)/1000.\n",
    "    xx, yy = np.meshgrid(np.arange(x_min, x_max, hx), np.arange(y_min, y_max, hy))\n",
    "\n",
    "    # Obtain labels for each point in mesh. Use last trained model.\n",
    "    Z = clusters.predict(np.c_[xx.ravel(), yy.ravel()])\n",
    "\n",
    "    centroids = clusters.cluster_centers_\n",
    "\n",
    "\n",
    "    # Put the result into a color plot\n",
    "\n",
    "    Z = Z.reshape(xx.shape)\n",
    "    plt.figure(1)\n",
    "    plt.clf()\n",
    "    plt.imshow(Z, interpolation='nearest',\n",
    "               extent=(xx.min(), xx.max(), yy.min(), yy.max()),\n",
    "               cmap=plt.cm.Paired,\n",
    "               aspect='auto', origin='lower')\n",
    "\n",
    "    plt.plot(reduced_data[:, 0], reduced_data[:, 1], 'k.', markersize=2)\n",
    "    plt.scatter(centroids[:, 0], centroids[:, 1],\n",
    "                marker='x', s=169, linewidths=3,\n",
    "                color='w', zorder=10)\n",
    "    plt.title('Clustering on the wholesale grocery dataset (PCA-reduced data)\\n'\n",
    "              'Centroids are marked with white cross')\n",
    "    plt.xlim(x_min, x_max)\n",
    "    plt.ylim(y_min, y_max)\n",
    "    plt.xticks(())\n",
    "    plt.yticks(())\n",
    "    plt.show()"
   ]
  },
  {
   "cell_type": "code",
   "execution_count": 17,
   "metadata": {
    "collapsed": true
   },
   "outputs": [],
   "source": [
    "def run_k_means(n_clusters):\n",
    "    clusters = fit_k_mean(n_clusters)\n",
    "    compute_sihouette(n_clusters, clusters)\n",
    "    plot_clusters(clusters,reduced_data)"
   ]
  },
  {
   "cell_type": "code",
   "execution_count": 18,
   "metadata": {
    "collapsed": false
   },
   "outputs": [
    {
     "name": "stdout",
     "output_type": "stream",
     "text": [
      "for 2 clusters silhouette score is 0.533707466358\n"
     ]
    },
    {
     "data": {
      "image/png": "[encoded data removed]",
      "text/plain": [
       "<matplotlib.figure.Figure at 0x10abd3f50>"
      ]
     },
     "metadata": {},
     "output_type": "display_data"
    },
    {
     "name": "stdout",
     "output_type": "stream",
     "text": [
      "for 3 clusters silhouette score is 0.523070794792\n"
     ]
    },
    {
     "data": {
      "image/png": "[encoded data removed]",
      "text/plain": [
       "<matplotlib.figure.Figure at 0x10abd3c90>"
      ]
     },
     "metadata": {},
     "output_type": "display_data"
    },
    {
     "name": "stdout",
     "output_type": "stream",
     "text": [
      "for 4 clusters silhouette score is 0.470192829698\n"
     ]
    },
    {
     "data": {
      "image/png": "[encoded data removed]",
      "text/plain": [
       "<matplotlib.figure.Figure at 0x10f9e3fd0>"
      ]
     },
     "metadata": {},
     "output_type": "display_data"
    }
   ],
   "source": [
    "for i in range(2,5,1):\n",
    "    run_k_means(n_clusters=i)"
   ]
  },
  {
   "cell_type": "markdown",
   "metadata": {},
   "source": [
    "I selected 3 clusters with 2 clusters only we cannot account for customers who who order a lot of Grocery and Milk.\n",
    "\n",
    "With 4 clusters or more we are left with categories with very few points."
   ]
  },
  {
   "cell_type": "markdown",
   "metadata": {},
   "source": [
    "**7)** What are the central objects in each cluster? Describe them as customers."
   ]
  },
  {
   "cell_type": "markdown",
   "metadata": {
    "collapsed": true
   },
   "source": [
    "The central objects are the centroids. \n",
    "They represent the average location of the points located in their cluster.\n",
    "\n",
    "The left cluster is made of **premium customers who order a lot more fresh products**.\n",
    "\n",
    "the top cluster is made of **premium customers who order Grocery (and Milk)**\n",
    "\n",
    "The right bottom dense cluster order comparatively low quantities of those."
   ]
  },
  {
   "cell_type": "markdown",
   "metadata": {},
   "source": [
    "###Conclusions\n",
    "\n",
    "** 8)** Which of these techniques did you feel gave you the most insight into the data?"
   ]
  },
  {
   "cell_type": "markdown",
   "metadata": {
    "collapsed": true
   },
   "source": [
    "The variance in the data being quite important, PCA resulted in being powerful approach to be able to limit the number of dimensions used.\n",
    "\n",
    "KMeans came as a nice complement to draw a line between clusters and effectitvely deciding on our segments."
   ]
  },
  {
   "cell_type": "markdown",
   "metadata": {
    "collapsed": true
   },
   "source": [
    "**9)** How would you use that technique to help the company design new experiments?"
   ]
  },
  {
   "cell_type": "markdown",
   "metadata": {},
   "source": [
    "Instead of conducting the change in delivery method across the whole population of customer, the change could be tested taking into account our 3 customers segments.\n",
    "\n",
    "We would randomly split each customer segment in 2 folds : a control group and a test group.\n",
    "\n",
    "2 weeks after the change, we would measure customer statisfaction via a survey.\n",
    "\n",
    "Comparing our control and test groups we would be in a position to implement the change only for some customer segment(s)."
   ]
  },
  {
   "cell_type": "markdown",
   "metadata": {},
   "source": [
    "**10)** How would you use that data to help you predict future customer needs?"
   ]
  },
  {
   "cell_type": "markdown",
   "metadata": {},
   "source": [
    "If we consider customers' spendings as features and the clusters defined as labels.\n",
    "We then can train a model on this data (keeping away a test set to verify our model accuracy).\n",
    "\n",
    "Now when a new customer shows up, the model can assign it to a cluster. And we can predict its future orderings as being the average or the median of the orderings made by customers in the predicted cluster."
   ]
  }
 ],
 "metadata": {
  "kernelspec": {
   "display_name": "Python 2",
   "language": "python",
   "name": "python2"
  },
  "language_info": {
   "codemirror_mode": {
    "name": "ipython",
    "version": 2
   },
   "file_extension": ".py",
   "mimetype": "text/x-python",
   "name": "python",
   "nbconvert_exporter": "python",
   "pygments_lexer": "ipython2",
   "version": "2.7.11"
  }
 },
 "nbformat": 4,
 "nbformat_minor": 0
}
